{
  "nbformat": 4,
  "nbformat_minor": 0,
  "metadata": {
    "kernelspec": {
      "display_name": "Python 3",
      "language": "python",
      "name": "python3"
    },
    "language_info": {
      "codemirror_mode": {
        "name": "ipython",
        "version": 3
      },
      "file_extension": ".py",
      "mimetype": "text/x-python",
      "name": "python",
      "nbconvert_exporter": "python",
      "pygments_lexer": "ipython3",
      "version": "3.7.3"
    },
    "colab": {
      "provenance": []
    }
  },
  "cells": [
    {
      "cell_type": "markdown",
      "metadata": {
        "id": "Gp2WddtV9IwG"
      },
      "source": [
        "# Programa Ingenias+ Data Science"
      ]
    },
    {
      "cell_type": "markdown",
      "metadata": {
        "id": "H4M1yVbf9IwH"
      },
      "source": [
        "Como dijimos en clases anteriores, Python tiene implementadas muchas librerias para poder trabajar con datos. En la clase de hoy trabajaremos con una de ellas: `Numpy`."
      ]
    },
    {
      "cell_type": "markdown",
      "source": [],
      "metadata": {
        "id": "cSLGQVwY6VSQ"
      }
    },
    {
      "cell_type": "markdown",
      "metadata": {
        "id": "GdTT8WeL9IwI"
      },
      "source": [
        "Antes de comenzar, vamos a hablar un poco de esta libreria.\n",
        "\n",
        "**Numpy** es una librería optimizada para realizar cálculos numéricos con vectores y matrices. A diferencia de otros lenguajes de programación, Python no posee en su estructura central la figura de matrices. Eso quiere decir que para poder trabajar con esta estructura de datos deberiamos trabajar con listas de listas. NumPy introduce el concepto de arrays o matrices."
      ]
    },
    {
      "cell_type": "markdown",
      "metadata": {
        "id": "qWkq3EHK9IwK"
      },
      "source": [
        "Al ser de código abierto, `numpy` posee una documentación muy amplia que es **SIEMPRE RECOMENDABLE** consultar."
      ]
    },
    {
      "cell_type": "markdown",
      "metadata": {
        "id": "nxe3KLUO9IwL"
      },
      "source": [
        "- [Documentacion NumPy](https://devdocs.io/numpy/)"
      ]
    },
    {
      "cell_type": "markdown",
      "metadata": {
        "id": "l1Ay3nSs9IwN"
      },
      "source": [
        "## Clase 4: Introduccion a NumPy"
      ]
    },
    {
      "cell_type": "markdown",
      "metadata": {
        "id": "1SOPXukc9IwO"
      },
      "source": [
        "NumPy no pertenece al _core_ de Python y es por eso que debemos importarlo para poder usarlo."
      ]
    },
    {
      "cell_type": "markdown",
      "metadata": {
        "id": "D9O1UmgD9IwP"
      },
      "source": [
        "Para importar una libreria en Python se usa la siguiente sintaxis:\n",
        "    \n",
        "`import libreria as alias`\n",
        "\n",
        "Para importar una funcion en particular de un modulo o libreria, utilizamos la sintaxis:\n",
        "    \n",
        "`from libreria import funcion`"
      ]
    },
    {
      "cell_type": "markdown",
      "metadata": {
        "id": "i9dlKZ1v9IwP"
      },
      "source": [
        "Como convencion, cuando se importa `numpy` se le asigna el alias `np`. Pero esto no es obligatorio, solo me facilita muchas veces la escritura del codigo."
      ]
    },
    {
      "cell_type": "code",
      "metadata": {
        "id": "bILSO0jr9IwQ"
      },
      "source": [
        "#Importar numpy\n",
        "import numpy as np"
      ],
      "execution_count": null,
      "outputs": []
    },
    {
      "cell_type": "markdown",
      "metadata": {
        "id": "ksBsqePu9IwU"
      },
      "source": [
        "De ahora en mas para utilizar una función de Numpy solo tengo que usar `np` y luego llamar función. Por ejemplo, si quiero llamar la función `.mean()`, debo escribir: `np.mean()`."
      ]
    },
    {
      "cell_type": "markdown",
      "metadata": {
        "id": "VepZgbG69IwV"
      },
      "source": [
        "Comenzemos a ver que funciones se pueden utilizar en NumPy."
      ]
    },
    {
      "cell_type": "markdown",
      "metadata": {
        "id": "bA7MFSiS9IwV"
      },
      "source": [
        "- `.array()`"
      ]
    },
    {
      "cell_type": "markdown",
      "metadata": {
        "id": "FnPfh-Qa9IwW"
      },
      "source": [
        "Esta función me permite crear un array. Es posible crear arrays a partir de listas."
      ]
    },
    {
      "cell_type": "code",
      "metadata": {
        "id": "gr5IX5Zn9IwX"
      },
      "source": [
        "#creo un array\n",
        "arreglo = np.array([10, 11, 12, 13, 14, 15, 16, 17, 18, 19])"
      ],
      "execution_count": null,
      "outputs": []
    },
    {
      "cell_type": "code",
      "source": [
        "creo = np.array([1, 2, 3, 4, 5, 6, 7, 8, 9, 10])"
      ],
      "metadata": {
        "id": "eCWQ1ddGnhVu"
      },
      "execution_count": null,
      "outputs": []
    },
    {
      "cell_type": "code",
      "source": [
        "la_lista = [10, 20, 30, 13, 14, 40, 16, 17, 18, 50]\n",
        "tu_array = np.array(la_lista)\n",
        "print(tu_array)\n",
        "type(tu_array)\n"
      ],
      "metadata": {
        "colab": {
          "base_uri": "https://localhost:8080/"
        },
        "id": "JdR4GDxUn-fH",
        "outputId": "718505fa-d21a-4682-d1bd-ed74aef8b684"
      },
      "execution_count": null,
      "outputs": [
        {
          "output_type": "stream",
          "name": "stdout",
          "text": [
            "[10 20 30 13 14 40 16 17 18 50]\n"
          ]
        },
        {
          "output_type": "execute_result",
          "data": {
            "text/plain": [
              "numpy.ndarray"
            ]
          },
          "metadata": {},
          "execution_count": 6
        }
      ]
    },
    {
      "cell_type": "code",
      "metadata": {
        "id": "CJGrumM49Iwa",
        "outputId": "8d8bf01e-464e-446d-ca10-444148008856",
        "colab": {
          "base_uri": "https://localhost:8080/"
        }
      },
      "source": [
        "#crea una lista llamada mi_lista que contenga 10 numeros\n",
        "\n",
        "mi_lista = [110,120,130,140,150,160,170,180,190]\n",
        "\n",
        "#Ahora transforma tu lista en un array usando np.array y asignalo a la variable mi_array\n",
        "\n",
        "mi_array = np.array(mi_lista)\n",
        "\n",
        "#Imprimi mi_array\n",
        "print(mi_array)"
      ],
      "execution_count": null,
      "outputs": [
        {
          "output_type": "stream",
          "name": "stdout",
          "text": [
            "[110 120 130 140 150 160 170 180 190]\n"
          ]
        }
      ]
    },
    {
      "cell_type": "markdown",
      "metadata": {
        "id": "pkmckzMD9Iwc"
      },
      "source": [
        "Podemos usar `type` para obtener el tipo de estructura de datos que estamos trabajando."
      ]
    },
    {
      "cell_type": "code",
      "metadata": {
        "id": "W60TBE9t9Iwd",
        "outputId": "8373ec87-9976-416e-c91d-e03a175f918a",
        "colab": {
          "base_uri": "https://localhost:8080/"
        }
      },
      "source": [
        "#Aplica type sobre mi_array para mostrar que tipo de estructura de datos es\n",
        "type(mi_array)\n"
      ],
      "execution_count": null,
      "outputs": [
        {
          "output_type": "execute_result",
          "data": {
            "text/plain": [
              "numpy.ndarray"
            ]
          },
          "metadata": {},
          "execution_count": 8
        }
      ]
    },
    {
      "cell_type": "markdown",
      "metadata": {
        "id": "EbksvAhu9Iwg"
      },
      "source": [
        "Los arrays y las listas se comportan diferente frente operaciones matematicas con números."
      ]
    },
    {
      "cell_type": "code",
      "source": [
        "dos = [2]\n",
        "print(la_lista + dos)  # incorpora la lista y agrega un dato mas en el array\n",
        "# print(la_lista + 2) No se puede sumar un numero asi a una lista"
      ],
      "metadata": {
        "colab": {
          "base_uri": "https://localhost:8080/"
        },
        "id": "t-4FoQ9aovrh",
        "outputId": "0eea86e5-7153-4bd3-b624-6e972516dbe5"
      },
      "execution_count": null,
      "outputs": [
        {
          "output_type": "stream",
          "name": "stdout",
          "text": [
            "[10, 20, 30, 13, 14, 40, 16, 17, 18, 50, 2]\n"
          ]
        }
      ]
    },
    {
      "cell_type": "code",
      "metadata": {
        "id": "ieN2Van39Iwh",
        "colab": {
          "base_uri": "https://localhost:8080/"
        },
        "outputId": "96b942f0-a183-4ad7-e262-722e628956f5"
      },
      "source": [
        "#Corre el siguiente codigo\n",
        "print(mi_array+2) # A MI LISTA NO PUEDO AGREGAR O CONTATENAR UN 2 %% [markdown]\n",
        "# No es posible sumar un numero a cada uno de los elementos de una lista. Sin\n",
        "# embargo, esto funciona distinto en Numpy. %%\n",
        "   #observacciones nancy\n",
        "#en este caso creo el array para usar la herramienta de numpy, es esta caso\n",
        "#suma todos los elementos del array +2 de cada elemento del array\n"
      ],
      "execution_count": null,
      "outputs": [
        {
          "output_type": "stream",
          "name": "stdout",
          "text": [
            "[112 122 132 142 152 162 172 182 192]\n"
          ]
        }
      ]
    },
    {
      "cell_type": "markdown",
      "metadata": {
        "id": "nYV_cab39Iwl"
      },
      "source": [
        "No es posible sumar un numero a cada uno de los elementos de una lista. Sin embargo, esto funciona distinto en Numpy."
      ]
    },
    {
      "cell_type": "code",
      "source": [
        "la_lista2 = [i + 2 for i in la_lista]\n",
        "print(la_lista2)\n",
        "print(la_lista2 * 2)"
      ],
      "metadata": {
        "colab": {
          "base_uri": "https://localhost:8080/"
        },
        "id": "bQgA7WAppV_Z",
        "outputId": "b95a2189-883a-4012-e4d0-2d23797bab0b"
      },
      "execution_count": null,
      "outputs": [
        {
          "output_type": "stream",
          "name": "stdout",
          "text": [
            "[12, 22, 32, 15, 16, 42, 18, 19, 20, 52]\n",
            "[12, 22, 32, 15, 16, 42, 18, 19, 20, 52, 12, 22, 32, 15, 16, 42, 18, 19, 20, 52]\n"
          ]
        }
      ]
    },
    {
      "cell_type": "code",
      "metadata": {
        "id": "PleL40BL9Iwl",
        "outputId": "b2a9f470-f733-4126-ae0b-01f3ec742738",
        "colab": {
          "base_uri": "https://localhost:8080/"
        }
      },
      "source": [
        "#Suma 2 a cada elemento de mi_array\n",
        "mi_lista2 = [i + 2 for i in mi_lista]\n",
        "\n",
        "print(mi_lista2)"
      ],
      "execution_count": null,
      "outputs": [
        {
          "output_type": "stream",
          "name": "stdout",
          "text": [
            "[112, 122, 132, 142, 152, 162, 172, 182, 192]\n"
          ]
        }
      ]
    },
    {
      "cell_type": "markdown",
      "metadata": {
        "id": "B5fXUiPh9Iwo"
      },
      "source": [
        "El comportamiento tambien es distinto para la operacion de multiplicacion."
      ]
    },
    {
      "cell_type": "code",
      "metadata": {
        "id": "Xv_O7QVH9Iwo",
        "outputId": "f45b50cc-8a1b-43bf-c4f9-d1699e03be2f",
        "colab": {
          "base_uri": "https://localhost:8080/"
        }
      },
      "source": [
        "#Corre el siguiente codigo y fijate que pasa\n",
        "print(mi_lista*2)\n",
        "\n",
        "#lo que hace que lista , los elementos se multipliquen 2 veces, por lo tanto\n",
        "#lo que hace es crear 2 veces la lista, los datos no los multiplica"
      ],
      "execution_count": null,
      "outputs": [
        {
          "output_type": "stream",
          "name": "stdout",
          "text": [
            "[110, 120, 130, 140, 150, 160, 170, 180, 190, 110, 120, 130, 140, 150, 160, 170, 180, 190]\n"
          ]
        }
      ]
    },
    {
      "cell_type": "code",
      "source": [
        "la_lista3 = [i * 2 for i in la_lista]\n",
        "print(la_lista3)"
      ],
      "metadata": {
        "colab": {
          "base_uri": "https://localhost:8080/"
        },
        "id": "tyh5muxcqCtc",
        "outputId": "d621c551-4b83-41ba-d4b3-752b8fdcd2ce"
      },
      "execution_count": null,
      "outputs": [
        {
          "output_type": "stream",
          "name": "stdout",
          "text": [
            "[20, 40, 60, 26, 28, 80, 32, 34, 36, 100]\n"
          ]
        }
      ]
    },
    {
      "cell_type": "code",
      "metadata": {
        "id": "B9rBbXW59Iwr",
        "outputId": "84f9624c-7c3f-4e38-aa64-1f5b8416c2df",
        "colab": {
          "base_uri": "https://localhost:8080/"
        }
      },
      "source": [
        "#Ahora multiplica por dos cada elemento de mi_array\n",
        "\n",
        "mi_lista3 =  [i * 2 for i in mi_array]\n",
        "\n",
        "print(mi_lista3)"
      ],
      "execution_count": null,
      "outputs": [
        {
          "output_type": "stream",
          "name": "stdout",
          "text": [
            "[np.int64(220), np.int64(240), np.int64(260), np.int64(280), np.int64(300), np.int64(320), np.int64(340), np.int64(360), np.int64(380)]\n"
          ]
        }
      ]
    },
    {
      "cell_type": "markdown",
      "metadata": {
        "id": "EuWM5oic9Iwt"
      },
      "source": [
        "Los arrays y las listas se comportan diferente frente a operaciones con otros arrays/listas"
      ]
    },
    {
      "cell_type": "code",
      "metadata": {
        "id": "GQ505ALF9Iwt"
      },
      "source": [
        "#Corre el siguiente codigo\n",
        "lista1 = [1, 2, 3, 4, 5]\n",
        "lista2 = [5, 4, 3, 2, 1]\n",
        "\n",
        "arr1 = np.array(lista1)\n",
        "arr2 = np.array(lista2)"
      ],
      "execution_count": null,
      "outputs": []
    },
    {
      "cell_type": "code",
      "source": [
        "liste1 = [1, 2, 3, 4, 5]\n",
        "liste2 = [5, 4, 3, 2, 1]\n",
        "liste1 + liste2\n"
      ],
      "metadata": {
        "colab": {
          "base_uri": "https://localhost:8080/"
        },
        "id": "K4i_aoPmqWh7",
        "outputId": "7e278223-d742-49d0-85a6-e27212b6c45c"
      },
      "execution_count": null,
      "outputs": [
        {
          "output_type": "execute_result",
          "data": {
            "text/plain": [
              "[1, 2, 3, 4, 5, 5, 4, 3, 2, 1]"
            ]
          },
          "metadata": {},
          "execution_count": 17
        }
      ]
    },
    {
      "cell_type": "code",
      "metadata": {
        "id": "CFhhBc0r9Iww",
        "outputId": "36d1a3c4-d6ec-46dd-bf17-c3e086cf998e",
        "colab": {
          "base_uri": "https://localhost:8080/"
        }
      },
      "source": [
        "#Concatena las dos listas\n",
        "lista1 + lista2"
      ],
      "execution_count": null,
      "outputs": [
        {
          "output_type": "execute_result",
          "data": {
            "text/plain": [
              "[1, 2, 3, 4, 5, 5, 4, 3, 2, 1]"
            ]
          },
          "metadata": {},
          "execution_count": 18
        }
      ]
    },
    {
      "cell_type": "code",
      "source": [
        "liste1 = [1, 2, 3, 4, 5]\n",
        "liste2 = [5, 4, 3, 2, 1]\n",
        "i=liste1 + liste2\n",
        "print(i)\n",
        "liste3 = [i for i in liste1 for j in liste2]\n",
        "liste3.append(i for i in liste1 for j in liste2)\n",
        "print(liste3)\n",
        "# esto suma el primer elemento de cada lista\n",
        "print(liste3)"
      ],
      "metadata": {
        "colab": {
          "base_uri": "https://localhost:8080/"
        },
        "id": "IL_dh1R0qs9I",
        "outputId": "f51523bf-8287-46de-d491-dcc612a522c9"
      },
      "execution_count": null,
      "outputs": [
        {
          "output_type": "stream",
          "name": "stdout",
          "text": [
            "[1, 2, 3, 4, 5, 5, 4, 3, 2, 1]\n",
            "[1, 1, 1, 1, 1, 2, 2, 2, 2, 2, 3, 3, 3, 3, 3, 4, 4, 4, 4, 4, 5, 5, 5, 5, 5, <generator object <genexpr> at 0x79f870365e00>]\n",
            "[1, 1, 1, 1, 1, 2, 2, 2, 2, 2, 3, 3, 3, 3, 3, 4, 4, 4, 4, 4, 5, 5, 5, 5, 5, <generator object <genexpr> at 0x79f870365e00>]\n"
          ]
        }
      ]
    },
    {
      "cell_type": "code",
      "metadata": {
        "id": "xCz2gztf9Iwy",
        "outputId": "eb66689b-003c-49c2-f408-0bfdd9c02da5",
        "colab": {
          "base_uri": "https://localhost:8080/"
        }
      },
      "source": [
        "#Suma los elementos de los dos arrays\n",
        "\n",
        "lista3 = []\n",
        "for i in lista1:\n",
        "  for j in lista2:\n",
        "    lista3.append(i + j)\n",
        "print(lista3)\n",
        "print(lista1+lista2)\n",
        "\n",
        "lista1 = [1,2,3,4]\n",
        "lista2 = [9,2,3,4]\n",
        "array1 = np.array(lista1)\n",
        "array2 = np.array(lista2)\n",
        "\n",
        "print(array1 + array2)"
      ],
      "execution_count": null,
      "outputs": [
        {
          "output_type": "stream",
          "name": "stdout",
          "text": [
            "[6, 5, 4, 3, 2, 7, 6, 5, 4, 3, 8, 7, 6, 5, 4, 9, 8, 7, 6, 5, 10, 9, 8, 7, 6]\n",
            "[1, 2, 3, 4, 5, 5, 4, 3, 2, 1]\n",
            "[10  4  6  8]\n"
          ]
        }
      ]
    },
    {
      "cell_type": "code",
      "metadata": {
        "id": "RtdR2N8W9Iw0",
        "colab": {
          "base_uri": "https://localhost:8080/"
        },
        "outputId": "e9c6d0a3-4382-4cdf-958f-2e9e88ee289c"
      },
      "source": [
        "#Multiplica los elementos de cada arreglo\n",
        "lista=[]\n",
        "for i in array1:\n",
        " for j in array2:\n",
        "  arreglo_f = array1 * array2\n",
        "print(arreglo_f)"
      ],
      "execution_count": null,
      "outputs": [
        {
          "output_type": "stream",
          "name": "stdout",
          "text": [
            "[ 9  4  9 16]\n"
          ]
        }
      ]
    },
    {
      "cell_type": "code",
      "metadata": {
        "id": "NSIEt1ni9Iw2",
        "colab": {
          "base_uri": "https://localhost:8080/"
        },
        "outputId": "60f73bd9-05f0-45e8-ba7b-8e1047748d99"
      },
      "source": [
        "#lista=[]\n",
        "for i in array1:\n",
        " for j in array2:\n",
        "  arreglo_f = array1 - array2\n",
        "print(arreglo_f)"
      ],
      "execution_count": null,
      "outputs": [
        {
          "output_type": "stream",
          "name": "stdout",
          "text": [
            "[-8  0  0  0]\n"
          ]
        }
      ]
    },
    {
      "cell_type": "code",
      "metadata": {
        "id": "rfU5a4JT9Iw5",
        "colab": {
          "base_uri": "https://localhost:8080/"
        },
        "outputId": "ba492843-8002-4016-9d91-825b87445ac2"
      },
      "source": [
        "#Dividi los dos arrays\n",
        "lista=[]\n",
        "for i in array1:\n",
        " for j in array2:\n",
        "  arreglo_f = array1 // array2\n",
        "print(arreglo_f)"
      ],
      "execution_count": null,
      "outputs": [
        {
          "output_type": "stream",
          "name": "stdout",
          "text": [
            "[0 1 1 1]\n"
          ]
        }
      ]
    },
    {
      "cell_type": "code",
      "metadata": {
        "id": "vsK1bh2t9Iw_",
        "colab": {
          "base_uri": "https://localhost:8080/"
        },
        "outputId": "ca9e1652-2b01-41e9-e907-210173f2b701"
      },
      "source": [
        "#Eleva el array1 al array2\n",
        "lista=[]\n",
        "for i in array1:\n",
        " for j in array2:\n",
        "  arreglo_f = array1 ** array2\n",
        "print(arreglo_f)"
      ],
      "execution_count": null,
      "outputs": [
        {
          "output_type": "stream",
          "name": "stdout",
          "text": [
            "[  1   4  27 256]\n"
          ]
        }
      ]
    },
    {
      "cell_type": "markdown",
      "metadata": {
        "id": "xHrtSrCs9IxC"
      },
      "source": [
        "Para acceder a los elementos de los arrays de una dimension se utilizan los indices como las listas."
      ]
    },
    {
      "cell_type": "code",
      "metadata": {
        "id": "_AlcV5K09IxC",
        "outputId": "029a9f6d-154e-4e0d-a5f9-d9a981050fea",
        "colab": {
          "base_uri": "https://localhost:8080/"
        }
      },
      "source": [
        "#Corre el siguiente codigo\n",
        "print(lista1[0], arr1[0])"
      ],
      "execution_count": null,
      "outputs": [
        {
          "output_type": "stream",
          "name": "stdout",
          "text": [
            "1 1\n"
          ]
        }
      ]
    },
    {
      "cell_type": "code",
      "metadata": {
        "id": "rKRYd4OK9IxG",
        "outputId": "310352bd-0177-44d4-9899-acdc2122007e",
        "colab": {
          "base_uri": "https://localhost:8080/"
        }
      },
      "source": [
        "#Obtene el 3er elemento de arr1\n",
        "print(lista1[2], arr1[2])"
      ],
      "execution_count": null,
      "outputs": [
        {
          "output_type": "stream",
          "name": "stdout",
          "text": [
            "3 3\n"
          ]
        }
      ]
    },
    {
      "cell_type": "code",
      "metadata": {
        "id": "HihzUNA09IxI",
        "outputId": "96b799e6-0542-4d4e-d9c3-af8d5cf8a59c",
        "colab": {
          "base_uri": "https://localhost:8080/"
        }
      },
      "source": [
        "#Obtene el 5to elemento de arr2\n",
        "print (arr2[4])"
      ],
      "execution_count": null,
      "outputs": [
        {
          "output_type": "stream",
          "name": "stdout",
          "text": [
            "1\n"
          ]
        }
      ]
    },
    {
      "cell_type": "code",
      "metadata": {
        "id": "4uvf6wfu9IxL",
        "colab": {
          "base_uri": "https://localhost:8080/"
        },
        "outputId": "4e5f6584-32c8-4349-d36c-b61b20385342"
      },
      "source": [
        "#Obtene el ultimo elemento de arr1\n",
        "print(arr1[-1])"
      ],
      "execution_count": null,
      "outputs": [
        {
          "output_type": "stream",
          "name": "stdout",
          "text": [
            "5\n"
          ]
        }
      ]
    },
    {
      "cell_type": "markdown",
      "metadata": {
        "id": "Mavn6y_Q9IxN"
      },
      "source": [
        "Asi tambien obtenemos una porción del array de la misma manera que obtenemos una parte de una lista. A su vez podemos reasignar nuevos valores a una porción del array."
      ]
    },
    {
      "cell_type": "code",
      "metadata": {
        "id": "FBjVCpWo9IxN",
        "colab": {
          "base_uri": "https://localhost:8080/"
        },
        "outputId": "4e1249b2-653d-4122-9394-00b30a974eea"
      },
      "source": [
        "#Corre el siguiente codigo\n",
        "# Array1 tiene 4 elementos [0:3]\n",
        "lista1 = [1,2,3,4]\n",
        "lista2 = [9,2,3,4]\n",
        "array1 = np.array(lista1)\n",
        "array2 = np.array(lista2)\n",
        "\n",
        "array1[1:4] = [22, 23, 24]    # Acordarse que tomamos hasta N-1 entonces si queremos 3 numeros debemos poner 1:4 en este caso\n",
        "\n",
        "print(array1)"
      ],
      "execution_count": null,
      "outputs": [
        {
          "output_type": "stream",
          "name": "stdout",
          "text": [
            "[ 1 22 23 24]\n"
          ]
        }
      ]
    },
    {
      "cell_type": "code",
      "metadata": {
        "id": "9F9vBgU69IxP",
        "outputId": "b6744a70-0723-4ecf-976f-f47ebc2e7d7e",
        "colab": {
          "base_uri": "https://localhost:8080/"
        }
      },
      "source": [
        "#Imprimi el arr1\n",
        "print(arr1)"
      ],
      "execution_count": null,
      "outputs": [
        {
          "output_type": "stream",
          "name": "stdout",
          "text": [
            "[1 2 3 4 5]\n"
          ]
        }
      ]
    },
    {
      "cell_type": "markdown",
      "metadata": {
        "id": "89rDeEhV9IxR"
      },
      "source": [
        "## Arreglos multidimensionales"
      ]
    },
    {
      "cell_type": "markdown",
      "metadata": {
        "id": "CRUXEDm49IxR"
      },
      "source": [
        "Las listas son cadenas unidimensionales de elementos. Los arreglos pueden ser multidimensionales. Para comprender mejor que son, miremos el siguiente ejemplo:"
      ]
    },
    {
      "cell_type": "code",
      "metadata": {
        "id": "kuzYsFb99IxS",
        "outputId": "0d4b6fa4-bcdc-4245-dfac-41dd4dbec84c",
        "colab": {
          "base_uri": "https://localhost:8080/"
        }
      },
      "source": [
        "#Corre el siguiente codigo\n",
        "lista = [[0, 1, 3], [3, 4, 5]]\n",
        "arr2d = np.array(lista)\n",
        "print(arr2d)"
      ],
      "execution_count": null,
      "outputs": [
        {
          "output_type": "stream",
          "name": "stdout",
          "text": [
            "[[0 1 3]\n",
            " [3 4 5]]\n"
          ]
        }
      ]
    },
    {
      "cell_type": "code",
      "metadata": {
        "id": "oNqrJJbi9IxU",
        "outputId": "3f7f545d-66c5-4c04-f73b-677a634680b9",
        "colab": {
          "base_uri": "https://localhost:8080/"
        }
      },
      "source": [
        "#Veamos cuantas dimensiones tiene el array\n",
        "print(arr2d.ndim) # Dos filas"
      ],
      "execution_count": null,
      "outputs": [
        {
          "output_type": "stream",
          "name": "stdout",
          "text": [
            "2\n"
          ]
        }
      ]
    },
    {
      "cell_type": "code",
      "metadata": {
        "id": "Vj0qCMcu9IxW",
        "outputId": "3f1610a3-2a7d-4972-bd01-d90a7bb4f1e3",
        "colab": {
          "base_uri": "https://localhost:8080/"
        }
      },
      "source": [
        "#Veamos cuantos elementos tiene el array\n",
        "print(arr2d.size) # 6 elementos"
      ],
      "execution_count": null,
      "outputs": [
        {
          "output_type": "stream",
          "name": "stdout",
          "text": [
            "6\n"
          ]
        }
      ]
    },
    {
      "cell_type": "code",
      "metadata": {
        "id": "VFKyjgth9IxY",
        "outputId": "0928fb23-58ea-45b3-dc8f-4457d5cdb405",
        "colab": {
          "base_uri": "https://localhost:8080/"
        }
      },
      "source": [
        "#Arma ahora un array de 3 dimensiones.\n",
        "coso = [[[2,7,6],[1,2,5],[10,20,30]]]\n",
        "arr3d = np.array(coso)\n",
        "print(arr3d)"
      ],
      "execution_count": null,
      "outputs": [
        {
          "output_type": "stream",
          "name": "stdout",
          "text": [
            "[[[ 2  7  6]\n",
            "  [ 1  2  5]\n",
            "  [10 20 30]]]\n"
          ]
        }
      ]
    },
    {
      "cell_type": "code",
      "metadata": {
        "id": "wfHd2SMX9Ixa",
        "outputId": "2753e949-2fdd-44f5-de78-7261b180684c",
        "colab": {
          "base_uri": "https://localhost:8080/"
        }
      },
      "source": [
        "#Chequea usando ndim que efectivamente tenga tres dimensiones\n",
        "print(arr3d.ndim)"
      ],
      "execution_count": null,
      "outputs": [
        {
          "output_type": "stream",
          "name": "stdout",
          "text": [
            "3\n"
          ]
        }
      ]
    },
    {
      "cell_type": "markdown",
      "metadata": {
        "id": "fmEhCwq49Ixb"
      },
      "source": [
        "**¿Como accedemos entonces a un array de mas de una dimension?**"
      ]
    },
    {
      "cell_type": "code",
      "metadata": {
        "id": "-9c0rOTg9Ixc",
        "colab": {
          "base_uri": "https://localhost:8080/"
        },
        "outputId": "3c1e1656-6227-4694-cc99-7a080baa6388"
      },
      "source": [
        "#definamos un nuevo array\n",
        "lista2 = [[0, 1, 3], [3, 4, 5], [9, 10, 4], [2, 5, 6]]\n",
        "nuevo_array = np.array(lista2)\n",
        "print(nuevo_array)"
      ],
      "execution_count": null,
      "outputs": [
        {
          "output_type": "stream",
          "name": "stdout",
          "text": [
            "[[ 0  1  3]\n",
            " [ 3  4  5]\n",
            " [ 9 10  4]\n",
            " [ 2  5  6]]\n"
          ]
        }
      ]
    },
    {
      "cell_type": "markdown",
      "metadata": {
        "id": "Hi_zFded9Ixd"
      },
      "source": [
        "¿Cuantas dimensiones tiene el array `nuevo_array`? Comprobalo usando `ndim`."
      ]
    },
    {
      "cell_type": "code",
      "metadata": {
        "id": "HL6EzD_p9Ixe",
        "outputId": "8f163d2c-19bd-4833-d519-bd621b2638ae",
        "colab": {
          "base_uri": "https://localhost:8080/"
        }
      },
      "source": [
        "#Dimensiones de nuevo_array\n",
        "print(nuevo_array.ndim)"
      ],
      "execution_count": null,
      "outputs": [
        {
          "output_type": "stream",
          "name": "stdout",
          "text": [
            "2\n"
          ]
        }
      ]
    },
    {
      "cell_type": "code",
      "metadata": {
        "id": "gbYdjAsA9Ixg",
        "outputId": "d271958b-0d5c-48ec-f3ca-7b4ec9aca5a9",
        "colab": {
          "base_uri": "https://localhost:8080/"
        }
      },
      "source": [
        "#Mostra nuevo_array\n",
        "print(nuevo_array)"
      ],
      "execution_count": null,
      "outputs": [
        {
          "output_type": "stream",
          "name": "stdout",
          "text": [
            "[[ 0  1  3]\n",
            " [ 3  4  5]\n",
            " [ 9 10  4]\n",
            " [ 2  5  6]]\n"
          ]
        }
      ]
    },
    {
      "cell_type": "markdown",
      "metadata": {
        "id": "BRDLHnGA9Ixj"
      },
      "source": [
        "Si para un array de 1 dimension, usabamos un indice, para un array de n dimensiones tenemos que usar n indices. En el caso de 2 dimensiones, usaremos 2 indices. El primero indica la fila y el segundo la columna."
      ]
    },
    {
      "cell_type": "code",
      "metadata": {
        "id": "gR50Ev219Ixk",
        "outputId": "7590d06e-428d-4aa2-f02a-a1707130a75d",
        "colab": {
          "base_uri": "https://localhost:8080/"
        }
      },
      "source": [
        "#Corre el siguiente codigo\n",
        "print(nuevo_array[0, 1])"
      ],
      "execution_count": null,
      "outputs": [
        {
          "output_type": "stream",
          "name": "stdout",
          "text": [
            "1\n"
          ]
        }
      ]
    },
    {
      "cell_type": "code",
      "metadata": {
        "id": "Vlrqe2DZ9Ixo",
        "outputId": "dd3986b5-d137-4f6d-a7e9-58ed4062ae99",
        "colab": {
          "base_uri": "https://localhost:8080/"
        }
      },
      "source": [
        "#Accede al tercer elemento de la segunda fila de nuevo_array\n",
        "print(nuevo_array[1,2])"
      ],
      "execution_count": null,
      "outputs": [
        {
          "output_type": "stream",
          "name": "stdout",
          "text": [
            "5\n"
          ]
        }
      ]
    },
    {
      "cell_type": "code",
      "metadata": {
        "id": "A9jsjXoK9Ixs",
        "outputId": "32bcf62e-ad4e-46e2-afc2-e83c397f9ffb",
        "colab": {
          "base_uri": "https://localhost:8080/"
        }
      },
      "source": [
        "#Accede al cuarto elemento de la segunda columna de nuevo_array\n",
        "print(nuevo_array[3,2])"
      ],
      "execution_count": null,
      "outputs": [
        {
          "output_type": "stream",
          "name": "stdout",
          "text": [
            "6\n"
          ]
        }
      ]
    },
    {
      "cell_type": "code",
      "metadata": {
        "id": "sGc4P3E19Ixt",
        "outputId": "55f15b3e-3ca8-46fb-a625-eae28aca77c0",
        "colab": {
          "base_uri": "https://localhost:8080/"
        }
      },
      "source": [
        "#Accedo a toda la segunda columna\n",
        "nuevo_array[:,1]"
      ],
      "execution_count": null,
      "outputs": [
        {
          "output_type": "execute_result",
          "data": {
            "text/plain": [
              "array([ 1,  4, 10,  5])"
            ]
          },
          "metadata": {},
          "execution_count": 146
        }
      ]
    },
    {
      "cell_type": "code",
      "metadata": {
        "id": "1pxpVLmO9Ixw",
        "outputId": "be7eb936-b921-4d69-b6b1-5ae422a73889",
        "colab": {
          "base_uri": "https://localhost:8080/"
        }
      },
      "source": [
        "# Accede a un subarray que vaya desde el segundo elemento de la primer columna hasta el cuarto elemento de la tercer\n",
        "# columna de nuevo_array\n",
        "\n",
        "print(nuevo_array[1:4 ,0:3])\n"
      ],
      "execution_count": null,
      "outputs": [
        {
          "output_type": "stream",
          "name": "stdout",
          "text": [
            "[[ 3  4  5]\n",
            " [ 9 10  4]\n",
            " [ 2  5  6]]\n"
          ]
        }
      ]
    },
    {
      "cell_type": "code",
      "metadata": {
        "id": "p9fDidG99Ixy",
        "outputId": "4a6320ad-0074-4ae1-eb79-4804b62a0f1e",
        "colab": {
          "base_uri": "https://localhost:8080/"
        }
      },
      "source": [
        "# Accede a un subarray que vaya desde el primer elemento de la segunda fila hasta el segundo elemento de la cuarta\n",
        "#fila de nuevo_array\n",
        "\n",
        "print(nuevo_array[1:5 , 0:2])"
      ],
      "execution_count": null,
      "outputs": [
        {
          "output_type": "stream",
          "name": "stdout",
          "text": [
            "[[ 3  4]\n",
            " [ 9 10]\n",
            " [ 2  5]]\n"
          ]
        }
      ]
    },
    {
      "cell_type": "markdown",
      "metadata": {
        "id": "YpXEjKk09Ix0"
      },
      "source": [
        "## Creación de arreglos"
      ]
    },
    {
      "cell_type": "markdown",
      "metadata": {
        "id": "tD-27Se19Ix1"
      },
      "source": [
        "- **np.zeros(shape, dtype, order)**: Crea un array con todos ceros en sus posiciones"
      ]
    },
    {
      "cell_type": "code",
      "metadata": {
        "id": "Kcdzl_U-9Ix2",
        "outputId": "70e3fcb0-db0a-42f6-c35f-7a80ba92d12a",
        "colab": {
          "base_uri": "https://localhost:8080/"
        }
      },
      "source": [
        "#Corre el siguiente codigo\n",
        "print(np.zeros((2, 2, 2)))"
      ],
      "execution_count": null,
      "outputs": [
        {
          "output_type": "stream",
          "name": "stdout",
          "text": [
            "[[[0. 0.]\n",
            "  [0. 0.]]\n",
            "\n",
            " [[0. 0.]\n",
            "  [0. 0.]]]\n"
          ]
        }
      ]
    },
    {
      "cell_type": "markdown",
      "metadata": {
        "id": "Pbfo4SMN9Ix4"
      },
      "source": [
        "- **np.ones(shape, dtype, order)**: Crea un array con todos unos en sus posiciones"
      ]
    },
    {
      "cell_type": "code",
      "metadata": {
        "id": "XHnqDg3F9Ix5",
        "outputId": "7c4a4c41-f30d-4572-8272-2c29e812e858",
        "colab": {
          "base_uri": "https://localhost:8080/"
        }
      },
      "source": [
        "#Corre el siguiente codigo\n",
        "print(np.ones(10))"
      ],
      "execution_count": null,
      "outputs": [
        {
          "output_type": "stream",
          "name": "stdout",
          "text": [
            "[1. 1. 1. 1. 1. 1. 1. 1. 1. 1.]\n"
          ]
        }
      ]
    },
    {
      "cell_type": "markdown",
      "metadata": {
        "id": "CYwoyqUz9Ix7"
      },
      "source": [
        "- **np.random.rand(d0, d1, ..., dn)**: Genera un array con valores al azar con una distribución `[0, 1)` y segun las dimensiones pasada como argumento."
      ]
    },
    {
      "cell_type": "code",
      "metadata": {
        "id": "WZL0bOTF9Ix7",
        "outputId": "809e0ad3-0599-4836-f18e-b763c6a5dcd9",
        "colab": {
          "base_uri": "https://localhost:8080/"
        }
      },
      "source": [
        "#Genera un array con valores al azar\n",
        "print(np.random.randn(10))"
      ],
      "execution_count": null,
      "outputs": [
        {
          "output_type": "stream",
          "name": "stdout",
          "text": [
            "[-1.56543551  1.64044472  1.03350947 -0.4380835  -0.44321423 -0.45249691\n",
            "  0.01000077 -0.37704675 -0.70589452 -1.38329754]\n"
          ]
        }
      ]
    },
    {
      "cell_type": "markdown",
      "metadata": {
        "id": "uL9DAYO-9Ix8"
      },
      "source": [
        "- **np.random.randint(low, high, size)**: Devuelve un array con enteros al azar. Cuando se especifica un solo entero como argumento este entero es entendido como el mayor valor que ese numero random puede tomar. Si se pasan dos, uno es el menor valor y el otro es el mayor valor. Con size se le puede decir que dimensiones tiene el array. Si no le paso ningun valor, devolvera solo un numero entero."
      ]
    },
    {
      "cell_type": "code",
      "metadata": {
        "id": "KeLDVrWI9Ix9",
        "outputId": "bcdc1ee1-531c-4cdc-fd1b-a9146d84c2c5",
        "colab": {
          "base_uri": "https://localhost:8080/"
        }
      },
      "source": [
        "#Genera un array con enteros al azar\n",
        "np.random.randint(5)\n",
        "\n",
        "\n"
      ],
      "execution_count": null,
      "outputs": [
        {
          "output_type": "execute_result",
          "data": {
            "text/plain": [
              "2"
            ]
          },
          "metadata": {},
          "execution_count": 45
        }
      ]
    },
    {
      "cell_type": "markdown",
      "metadata": {
        "id": "vnNsy9gw9Ix_"
      },
      "source": [
        "- **np.arange([start, ]stop, [step, ])**: Devuelve numero simetricamente distribuidos segun los valores datos. El primer valor es el comienzo, el segundo el final y el tercero representa cada cuanto queremos esos valores."
      ]
    },
    {
      "cell_type": "code",
      "metadata": {
        "id": "vOuXCx4D9Ix_",
        "outputId": "e127c820-d700-4765-8e37-bbd055c93c2b",
        "colab": {
          "base_uri": "https://localhost:8080/"
        }
      },
      "source": [
        "#Corre esta linea de codigo y comprende como funciona np.arange\n",
        "np.arange(2, 16, 2)"
      ],
      "execution_count": null,
      "outputs": [
        {
          "output_type": "execute_result",
          "data": {
            "text/plain": [
              "array([ 2,  4,  6,  8, 10, 12, 14])"
            ]
          },
          "metadata": {},
          "execution_count": 65
        }
      ]
    },
    {
      "cell_type": "markdown",
      "metadata": {
        "id": "ad8MpgsK9IyB"
      },
      "source": [
        "## Funciones estadisticas"
      ]
    },
    {
      "cell_type": "markdown",
      "metadata": {
        "id": "hkKe1XHu9IyB"
      },
      "source": [
        "NumPy nos facilita varias funciones que nos permitiran obtener algunos parametros estadisticos de nuestros arrays. Veamos cuales son estas funciones."
      ]
    },
    {
      "cell_type": "code",
      "metadata": {
        "id": "nXp_uV3j9IyC",
        "outputId": "a673dc3e-253e-4666-a3df-8ff7aad43d90",
        "colab": {
          "base_uri": "https://localhost:8080/"
        }
      },
      "source": [
        "#Volvamos a ver como era nuestro array nuevo_array\n",
        "print(nuevo_array)"
      ],
      "execution_count": null,
      "outputs": [
        {
          "output_type": "stream",
          "name": "stdout",
          "text": [
            "[[ 0  1  3]\n",
            " [ 3  4  5]\n",
            " [ 9 10  4]\n",
            " [ 2  5  6]]\n"
          ]
        }
      ]
    },
    {
      "cell_type": "markdown",
      "metadata": {
        "id": "2Pn6RQZU9IyE"
      },
      "source": [
        "- `np.mean()`: Media o Promedio."
      ]
    },
    {
      "cell_type": "code",
      "metadata": {
        "id": "nRBJGUd39IyF",
        "outputId": "a95e9160-63e5-415f-c3ba-84682d9a77d7",
        "colab": {
          "base_uri": "https://localhost:8080/"
        }
      },
      "source": [
        "#usa la funcion mean para obtener el promedio de los valores en nuevo_array\n",
        "\n",
        "\n",
        "np.mean(nuevo_array)"
      ],
      "execution_count": null,
      "outputs": [
        {
          "output_type": "execute_result",
          "data": {
            "text/plain": [
              "np.float64(4.333333333333333)"
            ]
          },
          "metadata": {},
          "execution_count": 42
        }
      ]
    },
    {
      "cell_type": "markdown",
      "metadata": {
        "id": "Zc1r1TvP9IyG"
      },
      "source": [
        "- `np.var()`: Devuelve la dispersión de los valores alrededor de la media"
      ]
    },
    {
      "cell_type": "code",
      "metadata": {
        "id": "WJGJTzY89IyI",
        "outputId": "5c8d3d3d-bd71-4587-9a3a-d4a0ea2d701f",
        "colab": {
          "base_uri": "https://localhost:8080/"
        }
      },
      "source": [
        "#usa la funcion var para obtener la varianza de los valores en nuevo_array\n",
        "np.var(nuevo_array)"
      ],
      "execution_count": null,
      "outputs": [
        {
          "output_type": "execute_result",
          "data": {
            "text/plain": [
              "np.float64(8.055555555555557)"
            ]
          },
          "metadata": {},
          "execution_count": 69
        }
      ]
    },
    {
      "cell_type": "markdown",
      "metadata": {
        "id": "9eM5HfIk9IyK"
      },
      "source": [
        "- `np.sum()`: devuelve la suma de todos los valores en el array.\n",
        "- `np.min()`: devuelve el menor valor en el array\n",
        "- `np.max()`: devuelve el maximo valor en el array"
      ]
    },
    {
      "cell_type": "code",
      "metadata": {
        "id": "MMaX3qaq9IyK",
        "outputId": "ea87a277-0d41-4e2a-8da2-93bbb2616571",
        "colab": {
          "base_uri": "https://localhost:8080/"
        }
      },
      "source": [
        "#Muestra la suma de los valores en nuevo_array\n",
        "print(np.sum(nuevo_array))\n",
        "\n",
        "#Muestra el minimo y maximo valor en nuevo array\n",
        "\n",
        "print(np.min(nuevo_array))\n",
        "print(np.max(nuevo_array))"
      ],
      "execution_count": null,
      "outputs": [
        {
          "output_type": "stream",
          "name": "stdout",
          "text": [
            "52\n",
            "0\n",
            "10\n"
          ]
        }
      ]
    }
  ]
}